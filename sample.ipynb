{
 "cells": [
  {
   "metadata": {},
   "cell_type": "code",
   "outputs": [],
   "execution_count": null,
   "source": "",
   "id": "fbc121e30a2defb3"
  },
  {
   "metadata": {},
   "cell_type": "markdown",
   "source": "### Digit Recognition",
   "id": "f3e33a5dd5673f06"
  },
  {
   "metadata": {
    "ExecuteTime": {
     "end_time": "2024-09-30T05:05:06.715945Z",
     "start_time": "2024-09-30T05:05:06.710352Z"
    }
   },
   "cell_type": "code",
   "source": [
    "import  numpy as np\n",
    "import  pandas as pd\n",
    "from matplotlib import pyplot as plt"
   ],
   "id": "3bafafa52f7a0ae3",
   "outputs": [],
   "execution_count": 3
  },
  {
   "metadata": {
    "ExecuteTime": {
     "end_time": "2024-09-30T05:10:57.572819Z",
     "start_time": "2024-09-30T05:10:57.466680Z"
    }
   },
   "cell_type": "code",
   "source": [
    "!mkdir -p ~/.kaggle\n",
    "!cp kaggle.json ~/.kaggle\n",
    "!chmod 600 /root/.kaggle/kaggle.json"
   ],
   "id": "1edc598edafc28ca",
   "outputs": [
    {
     "name": "stderr",
     "output_type": "stream",
     "text": [
      "The syntax of the command is incorrect.\n",
      "'cp' is not recognized as an internal or external command,\n",
      "operable program or batch file.\n",
      "'chmod' is not recognized as an internal or external command,\n",
      "operable program or batch file.\n"
     ]
    }
   ],
   "execution_count": 4
  }
 ],
 "metadata": {
  "kernelspec": {
   "display_name": "Python 3",
   "language": "python",
   "name": "python3"
  },
  "language_info": {
   "codemirror_mode": {
    "name": "ipython",
    "version": 2
   },
   "file_extension": ".py",
   "mimetype": "text/x-python",
   "name": "python",
   "nbconvert_exporter": "python",
   "pygments_lexer": "ipython2",
   "version": "2.7.6"
  }
 },
 "nbformat": 4,
 "nbformat_minor": 5
}
